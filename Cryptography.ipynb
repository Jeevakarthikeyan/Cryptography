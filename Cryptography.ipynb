{
 "cells": [
  {
   "cell_type": "markdown",
   "metadata": {},
   "source": [
    "# Cryptography app"
   ]
  },
  {
   "cell_type": "code",
   "execution_count": 1,
   "metadata": {},
   "outputs": [],
   "source": [
    "import onetimepad"
   ]
  },
  {
   "cell_type": "code",
   "execution_count": 2,
   "metadata": {},
   "outputs": [],
   "source": [
    "from tkinter import *"
   ]
  },
  {
   "cell_type": "code",
   "execution_count": 3,
   "metadata": {},
   "outputs": [
    {
     "name": "stdout",
     "output_type": "stream",
     "text": [
      "working 0600110311\n",
      "working jeeva\n"
     ]
    }
   ],
   "source": [
    "root = Tk()\n",
    "root.title(\"Cryptography APP\")\n",
    "\n",
    "def encryptionMessage():\n",
    "    a = var.get()\n",
    "    ct = onetimepad.encrypt(a,\"letupgrade\")\n",
    "    print(\"working\",ct)\n",
    "    \n",
    "    e2.delete(0,END)\n",
    "    e2.insert(END,ct)\n",
    "    \n",
    "def decryptionMessage():\n",
    "    a1 = var2.get()\n",
    "    ct1 = onetimepad.decrypt(a1,\"letupgrade\")\n",
    "    print(\"working\",ct1)\n",
    "    \n",
    "    e3.delete(0,END)\n",
    "    e3.insert(END,ct1)\n",
    "    \n",
    "\n",
    "l1 = Label(root,text=\"Plain Text\") \n",
    "l1.grid(row=0,column=0) #1st step(TOP)\n",
    "\n",
    "l3 = Label(root,text=\"Encrypt Text\") \n",
    "l3.grid(row=0,column=2)\n",
    "\n",
    "var = StringVar()\n",
    "e1 = Entry(root,textvariable=var)\n",
    "e1.grid(row=0,column=1) #1st box creation\n",
    "\n",
    "var2 = StringVar()\n",
    "e3 = Entry(root,textvariable=var2)\n",
    "e3.grid(row=0,column=3) \n",
    "\n",
    "l2 = Label(root,text=\"Encrypt Text\") \n",
    "l2.grid(row=1,column=0) #2nd line(TOP)\n",
    "\n",
    "l4 = Label(root,text=\"Plain Text\") \n",
    "l4.grid(row=1,column=2) #2nd line(TOP)\n",
    "\n",
    "\n",
    "e2 = Entry(root)\n",
    "e2.grid(row=1,column=1) #2nd box creation\n",
    "\n",
    "e3 = Entry(root)\n",
    "e3.grid(row=1,column=3) #2nd box creation\n",
    "\n",
    "b2 = Button(root,text=\"Encryption\",bg=\"Blue\",fg=\"Black\",command=encryptionMessage)\n",
    "b2.grid(row=2,column=1)\n",
    "\n",
    "b3 = Button(root,text=\"Decryption\",bg=\"Blue\",fg=\"Black\",command=decryptionMessage)\n",
    "b3.grid(row=2,column=3)\n",
    "\n",
    "\n",
    "root.mainloop() #app interface"
   ]
  },
  {
   "cell_type": "code",
   "execution_count": null,
   "metadata": {},
   "outputs": [],
   "source": []
  }
 ],
 "metadata": {
  "kernelspec": {
   "display_name": "Python 3",
   "language": "python",
   "name": "python3"
  },
  "language_info": {
   "codemirror_mode": {
    "name": "ipython",
    "version": 3
   },
   "file_extension": ".py",
   "mimetype": "text/x-python",
   "name": "python",
   "nbconvert_exporter": "python",
   "pygments_lexer": "ipython3",
   "version": "3.8.5"
  }
 },
 "nbformat": 4,
 "nbformat_minor": 4
}
